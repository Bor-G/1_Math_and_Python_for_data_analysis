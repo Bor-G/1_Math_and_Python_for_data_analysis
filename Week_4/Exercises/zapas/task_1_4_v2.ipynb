{
 "cells": [
  {
   "cell_type": "markdown",
   "metadata": {},
   "source": [
    "## Центральная предельная теорема своими руками"
   ]
  },
  {
   "cell_type": "code",
   "execution_count": 1,
   "metadata": {
    "collapsed": true
   },
   "outputs": [],
   "source": [
    "import numpy as np\n",
    "import matplotlib.pyplot as plt\n",
    "import scipy.stats as sts\n",
    "from scipy.stats import expon\n",
    "from math import sqrt\n",
    "% matplotlib inline"
   ]
  },
  {
   "cell_type": "markdown",
   "metadata": {},
   "source": [
    "Для задания выбрано экспоненциальное распределение.\n",
    "\n",
    "Его плотность имее вид: $$ f_{X}(x)={\\begin{cases}\\lambda \\,e^{{-\\lambda x}},&x\\geq 0,\\\\0,&x<0.\\end{cases}}. $$\n",
    "Математическое ожидание: $${\\mathbb  {E}}[X]={\\frac  {1}{\\lambda }}$$\n",
    "Дисперсия: $${D}[X]={\\frac  {1}{\\lambda ^{2}}}$$"
   ]
  },
  {
   "cell_type": "code",
   "execution_count": 2,
   "metadata": {},
   "outputs": [],
   "source": [
    "# генерация выборки объема n = 1000 из экспоненциального распределения (λ = 1)\n",
    "\n",
    "expon_rv = expon() \n",
    "sample = expon_rv.rvs(1000)"
   ]
  },
  {
   "cell_type": "code",
   "execution_count": 3,
   "metadata": {},
   "outputs": [
    {
     "data": {
      "text/plain": [
       "<matplotlib.text.Text at 0x86471d0>"
      ]
     },
     "execution_count": 3,
     "metadata": {},
     "output_type": "execute_result"
    },
    {
     "data": {
      "image/png": "[encoded data removed]",
      "text/plain": [
       "<matplotlib.figure.Figure at 0x8636270>"
      ]
     },
     "metadata": {},
     "output_type": "display_data"
    }
   ],
   "source": [
    "# постороение гистограммы для сгенерированной выборки и теоретической плотности распределения \n",
    "\n",
    "x = np.linspace(-1, 7, 100)\n",
    "pdf = expon_rv.pdf(x)\n",
    "plt.plot(x, pdf, 'red', lw = 1.5)\n",
    "plt.hist(sample, normed=True)\n",
    "plt.ylabel('$f(x), number of samples$')\n",
    "plt.xlabel('$x$')"
   ]
  },
  {
   "cell_type": "code",
   "execution_count": 4,
   "metadata": {},
   "outputs": [],
   "source": [
    "# генерация 1000 выборок объема n = 5, составление двумерного массива из полученных выборок\n",
    "\n",
    "n = 5\n",
    "list_sample = []\n",
    "for i in range(1000):\n",
    "    expon_rv = expon()\n",
    "    sample = expon_rv.rvs(n)\n",
    "    list_sample.append(sample)"
   ]
  },
  {
   "cell_type": "code",
   "execution_count": 5,
   "metadata": {
    "collapsed": true
   },
   "outputs": [],
   "source": [
    "# нахождение среднего выборочного значения для каждой выборки объема n = 5 и создание массива из них\n",
    "\n",
    "list_average = []\n",
    "for i in range(len(list_sample)):\n",
    "    average = np.mean(list_sample[i])\n",
    "    list_average.append(average)"
   ]
  },
  {
   "cell_type": "markdown",
   "metadata": {
    "collapsed": true
   },
   "source": [
    "##### lambda - параметр экспоненциального распределения\n",
    "\n",
    "##### m_lambda - математическое ожидание исходного распределения;\n",
    "\n",
    "##### d_lambda - дисперсия исходного распределения;\n",
    "\n",
    "##### М - математическое ожидание нормального распределения, которым по ЦПТ, приближается распределение выборочных средних;\n",
    "\n",
    "##### D - дисперсия нормального распределения, которым по ЦПТ, приближается распределение выборочных средних;\n",
    "\n",
    "##### sigma - СКО нормального распределения."
   ]
  },
  {
   "cell_type": "code",
   "execution_count": 6,
   "metadata": {},
   "outputs": [
    {
     "data": {
      "text/plain": [
       "(array([ 0.17574102,  0.65329815,  0.97421654,  0.89398694,  0.54632535,\n",
       "         0.27125245,  0.22540696,  0.03820457,  0.0267432 ,  0.01528183]),\n",
       " array([ 0.11939548,  0.38114427,  0.64289306,  0.90464185,  1.16639064,\n",
       "         1.42813943,  1.68988822,  1.95163701,  2.2133858 ,  2.47513459,\n",
       "         2.73688339]),\n",
       " <a list of 10 Patch objects>)"
      ]
     },
     "execution_count": 6,
     "metadata": {},
     "output_type": "execute_result"
    },
    {
     "data": {
      "image/png": "[encoded data removed]",
      "text/plain": [
       "<matplotlib.figure.Figure at 0xafe4730>"
      ]
     },
     "metadata": {},
     "output_type": "display_data"
    }
   ],
   "source": [
    "# вычисление математического ожидания и дисперсии для исходного распределения\n",
    "lambda_1 = 1\n",
    "m_lambda = 1/lambda_1\n",
    "d_lambda = 1/(lambda_1 ** 2)\n",
    "\n",
    "# вычисление математического ожидания и дисперсии для нормального распределения\n",
    "M = m_lambda # по ЦПТ\n",
    "D = d_lambda/n # по ЦПТ\n",
    "sigma = sqrt(D)\n",
    "\n",
    "# постороение гистограммы выборочного среднего и плотности нормального распределения с параметрами M и sigma\n",
    "norm_rv = sts.norm(M, sigma)\n",
    "x = np.linspace(-0.5, 3, 100)\n",
    "pdf = norm_rv.pdf(x)\n",
    "plt.plot(x, pdf, 'red', lw = 1.5)\n",
    "plt.ylabel('$f(x), number of samples$')\n",
    "plt.xlabel('$x$')\n",
    "plt.hist(list_average, normed=True)"
   ]
  },
  {
   "cell_type": "code",
   "execution_count": 7,
   "metadata": {
    "collapsed": true
   },
   "outputs": [],
   "source": [
    "# генерация 1000 выборок объема n = 10, составление двумерного массива из полученных выборок\n",
    "\n",
    "n = 10\n",
    "list_sample = []\n",
    "for i in range(1000):\n",
    "    expon_rv = expon()\n",
    "    sample = expon_rv.rvs(n)\n",
    "    list_sample.append(sample)"
   ]
  },
  {
   "cell_type": "code",
   "execution_count": 8,
   "metadata": {
    "collapsed": true
   },
   "outputs": [],
   "source": [
    "# нахождение среднего выборочного значения для каждой выборки объема n = 10 и создание массива из них\n",
    "\n",
    "list_average = []\n",
    "for i in range(len(list_sample)):\n",
    "    average = np.mean(list_sample[i])\n",
    "    list_average.append(average)"
   ]
  },
  {
   "cell_type": "code",
   "execution_count": 9,
   "metadata": {},
   "outputs": [
    {
     "data": {
      "text/plain": [
       "(array([ 0.28630498,  0.83138562,  1.15072579,  1.24983136,  0.92498532,\n",
       "         0.51204545,  0.31383431,  0.15416422,  0.03854106,  0.04404692]),\n",
       " array([ 0.34387664,  0.52550114,  0.70712565,  0.88875015,  1.07037466,\n",
       "         1.25199916,  1.43362366,  1.61524817,  1.79687267,  1.97849717,\n",
       "         2.16012168]),\n",
       " <a list of 10 Patch objects>)"
      ]
     },
     "execution_count": 9,
     "metadata": {},
     "output_type": "execute_result"
    },
    {
     "data": {
      "image/png": "[encoded data removed]",
      "text/plain": [
       "<matplotlib.figure.Figure at 0xaff9a90>"
      ]
     },
     "metadata": {},
     "output_type": "display_data"
    }
   ],
   "source": [
    "# вычисление математического ожидания и дисперсии для исходного распределения\n",
    "lambda_1 = 1\n",
    "m_lambda = 1/lambda_1\n",
    "d_lambda = 1/(lambda_1 ** 2)\n",
    "\n",
    "# вычисление математического ожидания и дисперсии для нормального распределения\n",
    "M = m_lambda # по ЦПТ\n",
    "D = d_lambda/n # по ЦПТ\n",
    "sigma = sqrt(D)\n",
    "\n",
    "# постороение гистограммы выборочного среднего и плотности нормального распределения M и sigma\n",
    "norm_rv = sts.norm(M, sigma)\n",
    "x = np.linspace(0, 2.5, 100)\n",
    "pdf = norm_rv.pdf(x)\n",
    "plt.plot(x, pdf, 'red', lw = 1.5)\n",
    "plt.ylabel('$f(x), number of samples$')\n",
    "plt.xlabel('$x$')\n",
    "plt.hist(list_average, normed=True)"
   ]
  },
  {
   "cell_type": "code",
   "execution_count": 10,
   "metadata": {
    "collapsed": true
   },
   "outputs": [],
   "source": [
    "# генерация 1000 выборок объема n = 50, составление двумерного массива из полученных выборок\n",
    "\n",
    "n = 50\n",
    "list_sample = []\n",
    "for i in range(1000):\n",
    "    expon_rv = expon()\n",
    "    sample = expon_rv.rvs(n)\n",
    "    list_sample.append(sample)"
   ]
  },
  {
   "cell_type": "code",
   "execution_count": 11,
   "metadata": {
    "collapsed": true
   },
   "outputs": [],
   "source": [
    "# нахождение среднего выборочного значения для каждой выборки объема n = 50 и создание массива из них\n",
    "\n",
    "list_average = []\n",
    "for i in range(len(list_sample)):\n",
    "    average = np.mean(list_sample[i])\n",
    "    list_average.append(average)"
   ]
  },
  {
   "cell_type": "code",
   "execution_count": 12,
   "metadata": {},
   "outputs": [
    {
     "data": {
      "text/plain": [
       "(array([ 0.05357687,  0.31074585,  1.00724517,  2.25022857,  2.91458177,\n",
       "         2.16450558,  1.25369878,  0.5786302 ,  0.12858449,  0.05357687]),\n",
       " array([ 0.55962681,  0.65295067,  0.74627452,  0.83959837,  0.93292222,\n",
       "         1.02624608,  1.11956993,  1.21289378,  1.30621763,  1.39954149,\n",
       "         1.49286534]),\n",
       " <a list of 10 Patch objects>)"
      ]
     },
     "execution_count": 12,
     "metadata": {},
     "output_type": "execute_result"
    },
    {
     "data": {
      "image/png": "[encoded data removed]",
      "text/plain": [
       "<matplotlib.figure.Figure at 0xaebeef0>"
      ]
     },
     "metadata": {},
     "output_type": "display_data"
    }
   ],
   "source": [
    "# вычисление математического ожидания и дисперсии для исходного распределения\n",
    "lambda_1 = 1\n",
    "m_lambda = 1/lambda_1\n",
    "d_lambda = 1/(lambda_1 ** 2)\n",
    "\n",
    "# вычисление математического ожидания и дисперсии для нормального распределения\n",
    "M = m_lambda # по ЦПТ\n",
    "D = d_lambda/n # по ЦПТ\n",
    "sigma = sqrt(D)\n",
    "\n",
    "# постороение гистограммы выборочного среднего и плотности нормального распределения с параметрами M и sigma\n",
    "norm_rv = sts.norm(M, sigma)\n",
    "x = np.linspace(0.5, 1.5, 100)\n",
    "pdf = norm_rv.pdf(x)\n",
    "plt.plot(x, pdf, 'red', lw = 1.5)\n",
    "plt.ylabel('$f(x), number of samples$')\n",
    "plt.xlabel('$x$')\n",
    "plt.hist(list_average, normed=True)"
   ]
  },
  {
   "cell_type": "markdown",
   "metadata": {},
   "source": [
    "### Выводы\n",
    "С увеличением n, распределение выборочного среднего все больше стремится к нормальному распределению. "
   ]
  }
 ],
 "metadata": {
  "kernelspec": {
   "display_name": "Python 3",
   "language": "python",
   "name": "python3"
  },
  "language_info": {
   "codemirror_mode": {
    "name": "ipython",
    "version": 3
   },
   "file_extension": ".py",
   "mimetype": "text/x-python",
   "name": "python",
   "nbconvert_exporter": "python",
   "pygments_lexer": "ipython3",
   "version": "3.7.0"
  }
 },
 "nbformat": 4,
 "nbformat_minor": 1
}
