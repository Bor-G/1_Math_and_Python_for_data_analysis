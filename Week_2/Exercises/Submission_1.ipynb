{
 "cells": [
  {
   "cell_type": "code",
   "execution_count": 1,
   "metadata": {},
   "outputs": [],
   "source": [
    "import pandas as pd\n",
    "import numpy as np\n",
    "import re\n",
    "from scipy import spatial"
   ]
  },
  {
   "cell_type": "code",
   "execution_count": 14,
   "metadata": {},
   "outputs": [
    {
     "name": "stdout",
     "output_type": "stream",
     "text": [
      "Ближайшие предложения к 1-му по косинусному расстоянию: 6 и 4\n",
      "[[0.95275444]\n",
      " [0.86447381]\n",
      " [0.89517152]\n",
      " [0.77708871]\n",
      " [0.94023857]\n",
      " [0.73273876]\n",
      " [0.92587507]\n",
      " [0.88427249]\n",
      " [0.90550888]\n",
      " [0.83281654]\n",
      " [0.88047714]\n",
      " [0.83964325]\n",
      " [0.87035926]\n",
      " [0.87401184]\n",
      " [0.94427218]\n",
      " [0.84063619]\n",
      " [0.9566445 ]\n",
      " [0.94427218]\n",
      " [0.88854436]\n",
      " [0.84275727]\n",
      " [0.82503645]]\n"
     ]
    }
   ],
   "source": [
    "cat_pd = pd.read_csv('sentences.txt', header = None, delimiter = '\\n', index_col = False)[0]\n",
    "cat_np = np.array(cat_pd)\n",
    "cat_dict = {}\n",
    "cat_list = []\n",
    "\n",
    "for i in range(len(cat_np)):\n",
    "    cat_np[i] = re.split('[^a-z]', cat_np[i].lower()) # Разбиваю на слова (уже с нижним регистром) каждое предложение\n",
    "    for j in range(cat_np[i].count('')):\n",
    "        cat_np[i].remove('')                          # Удаляю пустые слова\n",
    "\n",
    "    for k in range(len(cat_np[i])):\n",
    "        if cat_list.count(cat_np[i][k]) == 0:\n",
    "            cat_list.append(cat_np[i][k])             # Составляю список уникальных слов\n",
    "\n",
    "cat_list.sort()\n",
    "cat_list = list(enumerate(cat_list))                  # Упорядочиваю и нумерую слова\n",
    "for i in range(len(cat_list)):\n",
    "    cat_list[i] = list(cat_list[i])                   # В списке кортежи заменяю на списки и меняю местами слова и их номера\n",
    "    cat_list[i][0], cat_list[i][1] = cat_list[i][1], cat_list[i][0]\n",
    "    \n",
    "cat_dict = dict(cat_list)                             # Создаю словарь на основе пронумерованного списка\n",
    "cat = np.zeros((len(cat_np), len(cat_dict)))          # Создаю нулевую матрицу размером 22 * 254 (22 предложения и 254 слова)\n",
    "for i in range(len(cat_np)):\n",
    "    for j in range(len(cat_np[i])):\n",
    "        cat[i][cat_dict[cat_np[i][j]]] += 1            # Заполняю матрицу\n",
    "\n",
    "cat_dist = np.zeros([21, 1])                          # Создаю нулевую матрицу размером 21 * 1 (для расстояний между векторами)\n",
    "for i in range(len(cat) - 1):                         # Заполняю матрицу расстояниями от 0-го вектора к i-му\n",
    "    cat_dist[i] = spatial.distance.cosine(cat[0], cat[i + 1])\n",
    "    \n",
    "print(u'Ближайшие предложения к 1-му по косинусному расстоянию:',\n",
    "      cat_dist.argmin() + 1, u'и', np.delete(cat_dist, cat_dist.argmin()).argmin() + 1)\n",
    "\n",
    "print(cat_dist)"
   ]
  }
 ],
 "metadata": {
  "kernelspec": {
   "display_name": "Python 3",
   "language": "python",
   "name": "python3"
  },
  "language_info": {
   "codemirror_mode": {
    "name": "ipython",
    "version": 3
   },
   "file_extension": ".py",
   "mimetype": "text/x-python",
   "name": "python",
   "nbconvert_exporter": "python",
   "pygments_lexer": "ipython3",
   "version": "3.7.0"
  }
 },
 "nbformat": 4,
 "nbformat_minor": 2
}
